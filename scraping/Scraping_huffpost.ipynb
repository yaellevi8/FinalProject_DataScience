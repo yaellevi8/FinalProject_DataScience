{
 "cells": [
  {
   "cell_type": "code",
   "execution_count": 91,
   "id": "55e72fb8",
   "metadata": {},
   "outputs": [],
   "source": [
    "import bs4\n",
    "import time\n",
    "from datetime import datetime\n",
    "from bs4 import BeautifulSoup  \n",
    "import pandas as pd\n",
    "import scipy as sc\n",
    "import numpy as np\n",
    "import requests"
   ]
  },
  {
   "cell_type": "code",
   "execution_count": 92,
   "id": "8e61fd86",
   "metadata": {},
   "outputs": [],
   "source": [
    "def get_article_html(url):\n",
    "    html = requests.get(url)\n",
    "    soup = BeautifulSoup(html.content,\"html.parser\")\n",
    "    time.sleep(30) \n",
    "    return soup"
   ]
  },
  {
   "cell_type": "code",
   "execution_count": 93,
   "id": "f314dbf9",
   "metadata": {},
   "outputs": [],
   "source": [
    "def get_data_huffpost_web(soup):   \n",
    "    all_articles = soup.find_all('div',attrs={'class':'zone__content'})\n",
    "    \n",
    "    # Declaration\n",
    "    articles_topic = []\n",
    "    articles_content = []\n",
    "\n",
    "    for group_of_article in all_articles:\n",
    "        \n",
    "        articles = group_of_article.find_all('div',attrs={'class':'card__headlines'})\n",
    "        for article in articles:\n",
    "            topic = article.find('h3').get_text()\n",
    "            articles_topic.append(topic)\n",
    "                \n",
    "            url_of_article = article.find('a')['href']\n",
    "            soup = get_article_html(url_of_article)\n",
    "            \n",
    "            content = soup.find_all(\"p\")\n",
    "            full_content = \"\"\n",
    "            if content != None:\n",
    "                for paragraph in content:\n",
    "                    full_content = full_content + \" \" + paragraph.get_text().strip()\n",
    "            articles_content.append(full_content) \n",
    "      \n",
    "    return articles_topic, articles_content"
   ]
  },
  {
   "cell_type": "code",
   "execution_count": 94,
   "id": "d4dd7d17",
   "metadata": {},
   "outputs": [],
   "source": [
    "def insert_data_to_csv(topic, category, content):\n",
    "    # Create dataframe\n",
    "    data = pd.DataFrame({\n",
    "    \"topic\": topic,\n",
    "    \"category\": category,\n",
    "    \"content\": content\n",
    "    })\n",
    "    data.to_csv(f'huffpost Scraping-{category}-{datetime.now().strftime(\"%d-%m-%Y\")}.csv', mode='a')"
   ]
  },
  {
   "cell_type": "code",
   "execution_count": 95,
   "id": "b0c70176",
   "metadata": {},
   "outputs": [
    {
     "name": "stdout",
     "output_type": "stream",
     "text": [
      "Start scraping from huffpost!\n",
      "Finish get data!\n",
      "health csv is ready to use!\n",
      "Finish get data!\n",
      "opinion csv is ready to use!\n",
      "Finish get data!\n",
      "business csv is ready to use!\n",
      "Finish get data!\n",
      "environment csv is ready to use!\n",
      "Finish get data!\n",
      "politics csv is ready to use!\n",
      "Finish get data!\n",
      "social-justice csv is ready to use!\n",
      "Finish get data!\n",
      "coronavirus csv is ready to use!\n",
      "Finish get data!\n",
      "entertainment csv is ready to use!\n",
      "Finish scraping from huffpost.com!\n"
     ]
    }
   ],
   "source": [
    "categories = [\"health\", \"opinion\", \"business\",  \"environment\", \"politics\", \"social-justice\", \"coronavirus\", \"entertainment\"]\n",
    "print(\"Start scraping from huffpost!\")\n",
    "for category in categories:\n",
    "    if category in (\"health\", \"opinion\"):\n",
    "        soup = get_article_html(f\"https://www.huffpost.com/section/{category}\")\n",
    "    if category == \"business\":\n",
    "        soup = get_article_html(f\"https://www.huffpost.com/impact/{category}\")\n",
    "    if category == \"environment\":\n",
    "        soup = get_article_html(f\"https://www.huffpost.com/impact/green\")\n",
    "    if category == \"politics\":\n",
    "        soup = get_article_html(f\"https://www.huffpost.com/news/{category}\")\n",
    "    if category == \"social-justice\":\n",
    "        soup = get_article_html(f\"https://www.huffpost.com/impact/topic/{category}\")\n",
    "    if category == \"coronavirus\":\n",
    "        soup = get_article_html(f\"https://www.huffpost.com/news/topic/{category}\")\n",
    "    if category == \"entertainment\":\n",
    "        soup = get_article_html(f\"https://www.huffpost.com/{category}\")\n",
    "    topic, content = get_data_huffpost_web(soup)\n",
    "    insert_data_to_csv(topic, category, content)\n",
    "print(\"Finish scraping from huffpost.com!\")"
   ]
  }
 ],
 "metadata": {
  "kernelspec": {
   "display_name": "Python 3 (ipykernel)",
   "language": "python",
   "name": "python3"
  },
  "language_info": {
   "codemirror_mode": {
    "name": "ipython",
    "version": 3
   },
   "file_extension": ".py",
   "mimetype": "text/x-python",
   "name": "python",
   "nbconvert_exporter": "python",
   "pygments_lexer": "ipython3",
   "version": "3.9.7"
  }
 },
 "nbformat": 4,
 "nbformat_minor": 5
}
