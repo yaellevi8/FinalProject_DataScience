{
 "cells": [
  {
   "cell_type": "code",
   "execution_count": 1,
   "id": "55e72fb8",
   "metadata": {},
   "outputs": [],
   "source": [
    "import bs4\n",
    "import time\n",
    "from datetime import datetime\n",
    "from bs4 import BeautifulSoup  \n",
    "import pandas as pd\n",
    "import scipy as sc\n",
    "import numpy as np\n",
    "import requests\n",
    "from selenium import webdriver\n"
   ]
  },
  {
   "cell_type": "code",
   "execution_count": 2,
   "id": "44ddb59a",
   "metadata": {},
   "outputs": [],
   "source": [
    "def get_soup_objects(html):\n",
    "    soup = BeautifulSoup(html,\"html.parser\")\n",
    "    return soup"
   ]
  },
  {
   "cell_type": "code",
   "execution_count": 3,
   "id": "8e61fd86",
   "metadata": {},
   "outputs": [],
   "source": [
    "def get_medium_html(url):\n",
    "    html = requests.get(url)\n",
    "    soup = BeautifulSoup(html.content,\"html.parser\")\n",
    "    time.sleep(3) \n",
    "    return soup"
   ]
  },
  {
   "cell_type": "code",
   "execution_count": 4,
   "id": "f314dbf9",
   "metadata": {},
   "outputs": [],
   "source": [
    "def get_data_medium_web(soup):\n",
    "    articles=soup.find_all(\"article\")\n",
    "    \n",
    "    # Declaration\n",
    "    articles_topic = []\n",
    "    articles_content = []\n",
    "    \n",
    "    for article in articles:\n",
    "        # Get article's topic\n",
    "        topic = article.find(\"h2\").get_text()\n",
    "        articles_topic.append(topic)\n",
    "\n",
    "        # Get article's content\n",
    "        content = article.find('a')['href']\n",
    "        url_of_article = \"https://medium.com/\" + article.find('a')['href']\n",
    "        soup = get_medium_html(url_of_article)\n",
    "        content = soup.find(\"main\").find_all(\"p\")\n",
    "        \n",
    "        full_content = \"\"\n",
    "        if content != None:\n",
    "            for paragraph in content:\n",
    "                full_content = full_content + \" \" + paragraph.get_text().strip()\n",
    "        articles_content.append(full_content)\n",
    "      \n",
    "    return articles_topic, articles_content"
   ]
  },
  {
   "cell_type": "code",
   "execution_count": 5,
   "id": "d4dd7d17",
   "metadata": {},
   "outputs": [],
   "source": [
    "def insert_data_to_csv(topic, content):\n",
    "    # Create dataframe\n",
    "    data = pd.DataFrame({\n",
    "    \"topic\": topic,\n",
    "    #\"category\": category,\n",
    "    \"content\": content\n",
    "    })\n",
    "    data.to_csv(f'Medium Scraping-{datetime.now().strftime(\"%d-%m-%Y\")}.csv', mode='a')"
   ]
  },
  {
   "cell_type": "code",
   "execution_count": 6,
   "id": "4c1cca26",
   "metadata": {},
   "outputs": [],
   "source": [
    "categories = [\"technology\", \"health\", \"business\", \"money\", \"entrepreneurship\", \"marketing\", \"life\"]\n",
    "print(\"Start scraping from Medium.com!\")\n",
    "driver = webdriver.Chrome()\n",
    "driver.get(f\"https://medium.com/tag/{category\")\n",
    "driver.maximize_window()\n",
    "for i in range (1, 15):\n",
    "    driver.execute_script(\"window.scrollTo(0, document.body.scrollHeight);\")\n",
    "    time.sleep(5)\n",
    "html = driver.page_source\n",
    "driver.close()\n",
    "soup_obj = get_soup_objects(html)\n",
    "topics, contents = get_data_medium_web(soup_obj)\n",
    "insert_data_to_csv(topics, contents)\n",
    "print(\"Finish scraping from Medium.com!\")"
   ]
  },
  {
   "cell_type": "code",
   "execution_count": null,
   "id": "b0c70176",
   "metadata": {},
   "outputs": [],
   "source": [
    "categories = [\"technology\", \"health\", \"business\", \"money\", \"entrepreneurship\", \"marketing\", \"life\"]\n",
    "print(\"Start scraping from Medium.com!\")\n",
    "for category in categories:\n",
    "    soup = get_medium_html(f\"https://medium.com/tag/{category}\")\n",
    "    topic, content = get_data_medium_web(soup)\n",
    "    insert_data_to_csv(topic, category, content)\n",
    "print(\"Finish scraping from Medium.com!\")"
   ]
  },
  {
   "cell_type": "code",
   "execution_count": null,
   "id": "83c57885",
   "metadata": {},
   "outputs": [],
   "source": []
  },
  {
   "cell_type": "code",
   "execution_count": null,
   "id": "af5df40b",
   "metadata": {},
   "outputs": [],
   "source": []
  }
 ],
 "metadata": {
  "kernelspec": {
   "display_name": "Python 3 (ipykernel)",
   "language": "python",
   "name": "python3"
  },
  "language_info": {
   "codemirror_mode": {
    "name": "ipython",
    "version": 3
   },
   "file_extension": ".py",
   "mimetype": "text/x-python",
   "name": "python",
   "nbconvert_exporter": "python",
   "pygments_lexer": "ipython3",
   "version": "3.9.7"
  }
 },
 "nbformat": 4,
 "nbformat_minor": 5
}
