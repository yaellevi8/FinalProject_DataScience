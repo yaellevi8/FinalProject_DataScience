{
 "cells": [
  {
   "cell_type": "code",
   "execution_count": null,
   "id": "55e72fb8",
   "metadata": {},
   "outputs": [],
   "source": [
    "import bs4\n",
    "import time\n",
    "from datetime import datetime\n",
    "from bs4 import BeautifulSoup  \n",
    "import pandas as pd\n",
    "import scipy as sc\n",
    "import numpy as np\n",
    "import requests\n",
    "from selenium import webdriver\n",
    "from selenium.webdriver.common.keys import Keys\n",
    "from selenium.webdriver.chrome.service import Service\n",
    "from selenium.webdriver.common.by import By"
   ]
  },
  {
   "cell_type": "code",
   "execution_count": null,
   "id": "8e61fd86",
   "metadata": {},
   "outputs": [],
   "source": [
    "def get_article_html(url):\n",
    "    html = requests.get(url)\n",
    "    soup = BeautifulSoup(html.content,\"html.parser\")\n",
    "    time.sleep(5) \n",
    "    return soup"
   ]
  },
  {
   "cell_type": "code",
   "execution_count": null,
   "id": "f314dbf9",
   "metadata": {},
   "outputs": [],
   "source": [
    "def get_data_indiatoday_web(soup):\n",
    "    \n",
    "    articles = soup.find_all(\"div\",attrs={\"class\":\"catagory-listing\"})\n",
    "    \n",
    "    # Declaration\n",
    "    articles_topic = []\n",
    "    articles_content = []\n",
    "    for article in articles:\n",
    "        # Get article's topic\n",
    "        if article.find(\"p\") != None and article.find(\"h2\") != None:\n",
    "            topic = article.find(\"h2\").get_text()\n",
    "            articles_topic.append(topic)\n",
    "\n",
    "            # Get article's content - there are lots of videos description so we take the article's summary\n",
    "            articles_content.append(article.find(\"p\").get_text()) \n",
    "        \n",
    "    return articles_topic, articles_content"
   ]
  },
  {
   "cell_type": "code",
   "execution_count": null,
   "id": "d4dd7d17",
   "metadata": {},
   "outputs": [],
   "source": [
    "def insert_data_to_csv(topic, category, content):\n",
    "    # Create dataframe\n",
    "    data = pd.DataFrame({\n",
    "    \"topic\": topic,\n",
    "    \"category\": category,\n",
    "    \"content\": content\n",
    "    })\n",
    "    data.to_csv(f'indiatoday Scraping-{category}-{datetime.now().strftime(\"%d-%m-%Y\")}.csv', mode='a')"
   ]
  },
  {
   "cell_type": "code",
   "execution_count": null,
   "id": "9c1df594",
   "metadata": {},
   "outputs": [],
   "source": [
    "categories = [\"business\", \"world\", \"technology\", \"science\", \"health\"]\n",
    "\n",
    "print(\"Start scraping from indiatoday!\")\n",
    "\n",
    "def scraping_with_selenium_from_url(url):\n",
    "        driver = webdriver.Chrome()\n",
    "        driver.get(url)\n",
    "        driver.maximize_window()\n",
    "        time.sleep(10)\n",
    "        html = driver.page_source\n",
    "        soup = BeautifulSoup(html,\"html.parser\")\n",
    "        topic, content = get_data_indiatoday_web(soup)\n",
    "        insert_data_to_csv(topic, category, content)\n",
    "        next_button = driver.find_element(by=By.LINK_TEXT, value=('Next')).click()\n",
    "        for i in range (1, 15):\n",
    "            driver.execute_script(\"window.scrollTo(0, document.body.scrollHeight);\")\n",
    "            time.sleep(10)\n",
    "            html = driver.page_source\n",
    "            soup = BeautifulSoup(html,\"html.parser\")\n",
    "            topic, content = get_data_indiatoday_web(soup)\n",
    "            insert_data_to_csv(topic, category, content)\n",
    "            next_button = driver.find_element(by=By.LINK_TEXT, value=('Next')).click()\n",
    "        driver.close()\n",
    "  \n",
    "for category in categories:\n",
    "    if category == \"technology\":\n",
    "        scraping_with_selenium_from_url(f\"https://www.indiatoday.in/{category}/news\")\n",
    "    else:\n",
    "        scraping_with_selenium_from_url(f\"https://www.indiatoday.in/{category}\")\n",
    "        \n",
    "print(\"Finish scraping from indiatoday.in!\")\n",
    "     "
   ]
  },
  {
   "cell_type": "code",
   "execution_count": null,
   "id": "49cf79dd-5832-406f-ab20-7bd0c7953dd9",
   "metadata": {},
   "outputs": [],
   "source": []
  }
 ],
 "metadata": {
  "kernelspec": {
   "display_name": "Python 3 (ipykernel)",
   "language": "python",
   "name": "python3"
  },
  "language_info": {
   "codemirror_mode": {
    "name": "ipython",
    "version": 3
   },
   "file_extension": ".py",
   "mimetype": "text/x-python",
   "name": "python",
   "nbconvert_exporter": "python",
   "pygments_lexer": "ipython3",
   "version": "3.9.7"
  }
 },
 "nbformat": 4,
 "nbformat_minor": 5
}
