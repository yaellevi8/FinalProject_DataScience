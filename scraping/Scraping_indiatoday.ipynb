{
 "cells": [
  {
   "cell_type": "code",
   "execution_count": 67,
   "id": "55e72fb8",
   "metadata": {},
   "outputs": [],
   "source": [
    "import bs4\n",
    "import time\n",
    "from datetime import datetime\n",
    "from bs4 import BeautifulSoup  \n",
    "import pandas as pd\n",
    "import scipy as sc\n",
    "import numpy as np\n",
    "import requests"
   ]
  },
  {
   "cell_type": "code",
   "execution_count": 68,
   "id": "8e61fd86",
   "metadata": {},
   "outputs": [],
   "source": [
    "def get_article_html(url):\n",
    "    html = requests.get(url)\n",
    "    soup = BeautifulSoup(html.content,\"html.parser\")\n",
    "    time.sleep(5) \n",
    "    return soup"
   ]
  },
  {
   "cell_type": "code",
   "execution_count": 69,
   "id": "f314dbf9",
   "metadata": {},
   "outputs": [],
   "source": [
    "def get_data_indiatoday_web(soup):\n",
    "    \n",
    "    articles = soup.find_all(\"div\",attrs={\"class\":\"catagory-listing\"})\n",
    "    \n",
    "    # Declaration\n",
    "    articles_topic = []\n",
    "    articles_content = []\n",
    "    for article in articles:\n",
    "        # Get article's topic\n",
    "        if article.find(\"p\") != None and article.find(\"h2\") != None:\n",
    "            topic = article.find(\"h2\").get_text()\n",
    "            articles_topic.append(topic)\n",
    "\n",
    "            # Get article's content - there are lots of videos description so we take the article's summary\n",
    "            articles_content.append(article.find(\"p\").get_text()) \n",
    "        \n",
    "    return articles_topic, articles_content"
   ]
  },
  {
   "cell_type": "code",
   "execution_count": 70,
   "id": "d4dd7d17",
   "metadata": {},
   "outputs": [],
   "source": [
    "def insert_data_to_csv(topic, category, content):\n",
    "    # Create dataframe\n",
    "    data = pd.DataFrame({\n",
    "    \"topic\": topic,\n",
    "    \"category\": category,\n",
    "    \"content\": content\n",
    "    })\n",
    "    data.to_csv(f'indiatoday Scraping-{category}-{datetime.now().strftime(\"%d-%m-%Y\")}.csv', mode='a')"
   ]
  },
  {
   "cell_type": "code",
   "execution_count": 71,
   "id": "b0c70176",
   "metadata": {},
   "outputs": [
    {
     "name": "stdout",
     "output_type": "stream",
     "text": [
      "Start scraping from indiatoday!\n",
      "Finish scraping from indiatoday.in!\n"
     ]
    }
   ],
   "source": [
    "categories = [\"business\", \"world\", \"technology\", \"science\", \"health\"]\n",
    "print(\"Start scraping from indiatoday!\")\n",
    "for category in categories:\n",
    "    if category == \"technology\":\n",
    "        soup = get_article_html(f\"https://www.indiatoday.in/{category}/news\")\n",
    "    else:\n",
    "        soup = get_article_html(f\"https://www.indiatoday.in/{category}\")\n",
    "    topic, content = get_data_indiatoday_web(soup)\n",
    "    insert_data_to_csv(topic, category, content)\n",
    "print(\"Finish scraping from indiatoday.in!\")"
   ]
  },
  {
   "cell_type": "code",
   "execution_count": null,
   "id": "9c1df594",
   "metadata": {},
   "outputs": [],
   "source": []
  }
 ],
 "metadata": {
  "kernelspec": {
   "display_name": "Python 3 (ipykernel)",
   "language": "python",
   "name": "python3"
  },
  "language_info": {
   "codemirror_mode": {
    "name": "ipython",
    "version": 3
   },
   "file_extension": ".py",
   "mimetype": "text/x-python",
   "name": "python",
   "nbconvert_exporter": "python",
   "pygments_lexer": "ipython3",
   "version": "3.9.7"
  }
 },
 "nbformat": 4,
 "nbformat_minor": 5
}
