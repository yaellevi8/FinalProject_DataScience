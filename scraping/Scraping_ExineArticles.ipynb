{
 "cells": [
  {
   "cell_type": "code",
   "execution_count": 25,
   "id": "55e72fb8",
   "metadata": {},
   "outputs": [],
   "source": [
    "import bs4\n",
    "import time\n",
    "from datetime import datetime\n",
    "from bs4 import BeautifulSoup  \n",
    "import pandas as pd\n",
    "import scipy as sc\n",
    "import numpy as np\n",
    "import requests"
   ]
  },
  {
   "cell_type": "code",
   "execution_count": 26,
   "id": "8e61fd86",
   "metadata": {},
   "outputs": [],
   "source": [
    "def get_article_html(url):\n",
    "    html = requests.get(url)\n",
    "    soup = BeautifulSoup(html.content,\"html.parser\")\n",
    "    time.sleep(5) \n",
    "    return soup"
   ]
  },
  {
   "cell_type": "code",
   "execution_count": 27,
   "id": "f314dbf9",
   "metadata": {},
   "outputs": [],
   "source": [
    "def get_data_ezinearticles_web(soup):\n",
    "    \n",
    "    articles=soup.find('div',attrs={'class':'category-list'}).find_all('div',attrs={'class':'article'})\n",
    "    \n",
    "    # Declaration\n",
    "    articles_topic = []\n",
    "    articles_content = []\n",
    "\n",
    "    for article in articles:\n",
    "        # Get article's topic\n",
    "        topic = article.find(\"a\").get_text()\n",
    "        articles_topic.append(topic)\n",
    "        \n",
    "        # Get article's content - blocking us with lots of requests so we take the article's summary\n",
    "        articles_content.append(article.find('div',attrs={'class':'article-summary'}).get_text()) \n",
    "   \n",
    "    return articles_topic, articles_content"
   ]
  },
  {
   "cell_type": "code",
   "execution_count": 28,
   "id": "d4dd7d17",
   "metadata": {},
   "outputs": [],
   "source": [
    "def insert_data_to_csv(topic, category, content):\n",
    "    # Create dataframe\n",
    "    data = pd.DataFrame({\n",
    "    \"topic\": topic,\n",
    "    \"category\": category,\n",
    "    \"content\": content\n",
    "    })\n",
    "    data.to_csv(f'ezinearticles Scraping-{category}-{datetime.now().strftime(\"%d-%m-%Y\")}.csv', mode='a')"
   ]
  },
  {
   "cell_type": "code",
   "execution_count": 29,
   "id": "b0c70176",
   "metadata": {},
   "outputs": [
    {
     "name": "stdout",
     "output_type": "stream",
     "text": [
      "Start scraping from ezinearticles!\n",
      "Finish scraping from ezinearticles.com!\n"
     ]
    }
   ],
   "source": [
    "categories = [\"Business\",\"Arts-and-Entertainment\", \"Computers-and-Technology\", \"Travel-and-Leisure\", \"Finance\",\n",
    "             \"Health-and-Fitness\", \"Investing\", \"News-and-Society\", \"Communications\", \"Food-and-Drink\",\n",
    "              \"Home-and-Family\", \"Pets\"]\n",
    "print(\"Start scraping from ezinearticles!\")\n",
    "for category in categories:\n",
    "    soup = get_article_html(f\"https://ezinearticles.com/?cat={category}\")\n",
    "    topic, content = get_data_ezinearticles_web(soup)\n",
    "    insert_data_to_csv(topic, category, content)\n",
    "print(\"Finish scraping from ezinearticles.com!\")"
   ]
  }
 ],
 "metadata": {
  "kernelspec": {
   "display_name": "Python 3 (ipykernel)",
   "language": "python",
   "name": "python3"
  },
  "language_info": {
   "codemirror_mode": {
    "name": "ipython",
    "version": 3
   },
   "file_extension": ".py",
   "mimetype": "text/x-python",
   "name": "python",
   "nbconvert_exporter": "python",
   "pygments_lexer": "ipython3",
   "version": "3.9.7"
  }
 },
 "nbformat": 4,
 "nbformat_minor": 5
}
