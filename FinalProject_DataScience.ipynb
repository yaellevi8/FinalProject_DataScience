{
 "cells": [
  {
   "cell_type": "code",
   "execution_count": 356,
   "id": "55e72fb8",
   "metadata": {},
   "outputs": [],
   "source": [
    "import bs4\n",
    "import time\n",
    "from datetime import datetime\n",
    "from bs4 import BeautifulSoup  \n",
    "import pandas as pd\n",
    "import scipy as sc\n",
    "import numpy as np\n",
    "import requests"
   ]
  },
  {
   "cell_type": "code",
   "execution_count": 357,
   "id": "c80f8e48",
   "metadata": {},
   "outputs": [],
   "source": [
    "def get_medium_html(url):\n",
    "    html = requests.get(url)\n",
    "    soup = BeautifulSoup(html.content,\"html.parser\")\n",
    "    time.sleep(3) \n",
    "    return soup"
   ]
  },
  {
   "cell_type": "code",
   "execution_count": 358,
   "id": "f314dbf9",
   "metadata": {},
   "outputs": [],
   "source": [
    "def get_data_medium_web(soup):\n",
    "    articles=soup.find_all(\"article\")\n",
    "    \n",
    "    # Declaration\n",
    "    articles_topic = []\n",
    "    articles_content = []\n",
    "\n",
    "    for article in articles:\n",
    "        # Get article's topic\n",
    "        topic = article.find(\"h2\").get_text()\n",
    "        articles_topic.append(topic)\n",
    "\n",
    "        # Get article's content\n",
    "        content = article.find('a')['href']\n",
    "        url_of_article = \"https://medium.com/\" + article.find('a')['href']\n",
    "        soup = get_medium_html(url_of_article)\n",
    "        content = soup.find(\"main\").find_all(\"p\")\n",
    "\n",
    "        if content != None:\n",
    "            full_content = \"\"\n",
    "            for paragraph in content:\n",
    "                full_content = full_content + \" \" + paragraph.get_text().strip()\n",
    "            articles_content.append(full_content)\n",
    "            \n",
    "    return articles_topic, articles_content"
   ]
  },
  {
   "cell_type": "code",
   "execution_count": 359,
   "id": "acae3998",
   "metadata": {},
   "outputs": [],
   "source": [
    "def insert_data_to_csv(topic, category, content):\n",
    "    # Create dataframe\n",
    "    data = pd.DataFrame({\n",
    "    \"topic\": topic,\n",
    "    \"category\": category,\n",
    "    \"content\": content\n",
    "    })\n",
    "    data.to_csv(f'Medium Scraping-{datetime.now().strftime(\"%d-%m-%Y\")}.csv', mode='a')"
   ]
  },
  {
   "cell_type": "code",
   "execution_count": null,
   "id": "e08799a7",
   "metadata": {},
   "outputs": [
    {
     "name": "stdout",
     "output_type": "stream",
     "text": [
      "Start scraping from Medium.com!\n"
     ]
    }
   ],
   "source": [
    "categories = [\"technology\", \"health\", \"business\", \"money\", \"entrepreneurship\", \"marketing\", \"life\"]\n",
    "print(\"Start scraping from Medium.com!\")\n",
    "for category in categories:\n",
    "    soup = get_medium_html(f\"https://medium.com/tag/{category}\")\n",
    "    topic, content = get_data_medium_web(soup)\n",
    "    insert_data_to_csv(topic, category, content)\n",
    "print(\"Finish scraping from Medium.com!\")"
   ]
  }
 ],
 "metadata": {
  "kernelspec": {
   "display_name": "Python 3 (ipykernel)",
   "language": "python",
   "name": "python3"
  },
  "language_info": {
   "codemirror_mode": {
    "name": "ipython",
    "version": 3
   },
   "file_extension": ".py",
   "mimetype": "text/x-python",
   "name": "python",
   "nbconvert_exporter": "python",
   "pygments_lexer": "ipython3",
   "version": "3.9.7"
  }
 },
 "nbformat": 4,
 "nbformat_minor": 5
}
