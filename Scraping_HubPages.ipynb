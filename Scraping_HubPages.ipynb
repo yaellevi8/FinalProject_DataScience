{
 "cells": [
  {
   "cell_type": "code",
   "execution_count": 154,
   "id": "55e72fb8",
   "metadata": {},
   "outputs": [],
   "source": [
    "import bs4\n",
    "import time\n",
    "from datetime import datetime\n",
    "from bs4 import BeautifulSoup  \n",
    "import pandas as pd\n",
    "import scipy as sc\n",
    "import numpy as np\n",
    "import requests"
   ]
  },
  {
   "cell_type": "code",
   "execution_count": 155,
   "id": "8e61fd86",
   "metadata": {},
   "outputs": [],
   "source": [
    "def get_article_html(url):\n",
    "    html = requests.get(url)\n",
    "    soup = BeautifulSoup(html.content,\"html.parser\")\n",
    "    time.sleep(30) \n",
    "    return soup"
   ]
  },
  {
   "cell_type": "code",
   "execution_count": 156,
   "id": "f314dbf9",
   "metadata": {},
   "outputs": [],
   "source": [
    "def get_data_hubpages_web(soup):\n",
    "    all_articles = soup.find_all('section',attrs={'class':'m-card-group'})\n",
    "    # Declaration\n",
    "    articles_topic = []\n",
    "    articles_content = []\n",
    "        \n",
    "    for group_of_article in all_articles:\n",
    "        \n",
    "        articles = group_of_article.find_all('div',attrs={'class':'l-grid--item'})\n",
    "        for article in articles:\n",
    "            \n",
    "            if article.find('h2') != None:\n",
    "                topic = article.find('h2').get_text()\n",
    "                articles_topic.append(topic)\n",
    "                \n",
    "                url_of_article = article.find('a')['href']\n",
    "                soup = get_article_html(\"https://discover.hubpages.com/\" + url_of_article)\n",
    "\n",
    "                content = soup.find('div',attrs={'class':'m-detail--body'}).find_all(\"p\")\n",
    "                full_content = \"\"\n",
    "                if content != None:\n",
    "                    for paragraph in content:\n",
    "                        full_content = full_content + \" \" + paragraph.get_text().strip()\n",
    "                articles_content.append(full_content) \n",
    "      \n",
    "    print(\"Finish get data!\")     \n",
    "    return articles_topic, articles_content"
   ]
  },
  {
   "cell_type": "code",
   "execution_count": 157,
   "id": "d4dd7d17",
   "metadata": {},
   "outputs": [],
   "source": [
    "def insert_data_to_csv(topic, category, content):\n",
    "    # Create dataframe\n",
    "    data = pd.DataFrame({\n",
    "    \"topic\": topic,\n",
    "    \"category\": category,\n",
    "    \"content\": content\n",
    "    })\n",
    "    data.to_csv(f'hubpages Scraping-{category}-{datetime.now().strftime(\"%d-%m-%Y\")}.csv', mode='a')"
   ]
  },
  {
   "cell_type": "code",
   "execution_count": null,
   "id": "b0c70176",
   "metadata": {},
   "outputs": [
    {
     "name": "stdout",
     "output_type": "stream",
     "text": [
      "Start scraping from hubpages!\n"
     ]
    }
   ],
   "source": [
    "categories = [\"politics\", \"sports\", \"technology\", \"business\", \"art\", \"entertainment\", \"health\", \"travel\", \"religion-philosophy\",\n",
    "              \"money\", \"community\", \"home\", \"food\", \"style\", \"education\", \"literature\", \"autos\", \"games-hobbies\",\n",
    "              \"relationships\", \"holidays\"]\n",
    "print(\"Start scraping from hubpages!\")\n",
    "for category in categories:\n",
    "    soup = get_article_html(f\"https://discover.hubpages.com/{category}\")\n",
    "    topic, content = get_data_hubpages_web(soup)\n",
    "    insert_data_to_csv(topic, category, content)\n",
    "print(\"Finish scraping from hubpages.com!\")"
   ]
  }
 ],
 "metadata": {
  "kernelspec": {
   "display_name": "Python 3 (ipykernel)",
   "language": "python",
   "name": "python3"
  },
  "language_info": {
   "codemirror_mode": {
    "name": "ipython",
    "version": 3
   },
   "file_extension": ".py",
   "mimetype": "text/x-python",
   "name": "python",
   "nbconvert_exporter": "python",
   "pygments_lexer": "ipython3",
   "version": "3.9.7"
  }
 },
 "nbformat": 4,
 "nbformat_minor": 5
}
