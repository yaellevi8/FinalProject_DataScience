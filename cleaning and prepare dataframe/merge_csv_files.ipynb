{
 "cells": [
  {
   "cell_type": "code",
   "execution_count": 14,
   "id": "466256d4",
   "metadata": {},
   "outputs": [],
   "source": [
    "import pandas as pd\n",
    "import glob\n",
    "import os"
   ]
  },
  {
   "cell_type": "code",
   "execution_count": 15,
   "id": "f18851d1",
   "metadata": {},
   "outputs": [],
   "source": [
    "def insert_data_to_csv(topic, category, content):\n",
    "    # Create dataframe\n",
    "    data = pd.DataFrame({\n",
    "    \"topic\": topic,\n",
    "    \"category\": category,\n",
    "    \"content\": content\n",
    "    })\n",
    "    data.to_csv(f'merge.csv', mode='a')"
   ]
  },
  {
   "cell_type": "code",
   "execution_count": 16,
   "id": "b8a0d594",
   "metadata": {},
   "outputs": [
    {
     "name": "stdout",
     "output_type": "stream",
     "text": [
      "Start merge\n",
      "Merged!\n"
     ]
    }
   ],
   "source": [
    "def merge_csv_files():\n",
    "    # setting the path for joining multiple files, for example: \"example*\"\n",
    "    files = os.path.join(\"C:\\\\Users\\\\Ori\\\\Desktop\\\\\", \"example*.csv\")\n",
    "    \n",
    "    # list of merged files returned\n",
    "    files = glob.glob(files)\n",
    "\n",
    "    # joining files with concat and read_csv\n",
    "    df = pd.concat(map(pd.read_csv, files), ignore_index=True)\n",
    "    insert_data_to_csv(df[\"topic\"], df[\"category\"], df[\"content\"])\n",
    "    \n",
    "print(\"Start merge\")\n",
    "merge_csv_files()\n",
    "print(\"Merged!\")"
   ]
  }
 ],
 "metadata": {
  "kernelspec": {
   "display_name": "Python 3 (ipykernel)",
   "language": "python",
   "name": "python3"
  },
  "language_info": {
   "codemirror_mode": {
    "name": "ipython",
    "version": 3
   },
   "file_extension": ".py",
   "mimetype": "text/x-python",
   "name": "python",
   "nbconvert_exporter": "python",
   "pygments_lexer": "ipython3",
   "version": "3.9.7"
  }
 },
 "nbformat": 4,
 "nbformat_minor": 5
}
